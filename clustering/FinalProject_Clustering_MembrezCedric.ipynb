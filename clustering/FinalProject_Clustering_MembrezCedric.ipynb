{
 "cells": [
  {
   "cell_type": "markdown",
   "metadata": {},
   "source": [
    "# Pink Flamingo - Eglence Inc.\n",
    "# Cluster Analysis"
   ]
  },
  {
   "cell_type": "markdown",
   "metadata": {},
   "source": [
    "by Cédric Membrez, June 2020"
   ]
  },
  {
   "cell_type": "code",
   "execution_count": 1,
   "metadata": {
    "collapsed": false
   },
   "outputs": [],
   "source": [
    "# imports\n",
    "from pyspark.sql import SQLContext\n",
    "from pyspark.sql.functions import months_between, round #to_date, datediff,\n",
    "from pyspark.sql.functions import format_number\n",
    "from pyspark.sql.functions import year, month, dayofmonth\n",
    "from pyspark.sql.functions import sum as _sum\n",
    "from pyspark.sql.functions import count as _count\n",
    "from pyspark.sql.functions import col as _col\n",
    "\n",
    "from pyspark.ml.clustering import KMeans\n",
    "from pyspark.ml.feature import VectorAssembler\n",
    "from pyspark.ml.feature import StandardScaler\n",
    "\n",
    "import pycountry_convert as pc\n",
    "import pycountry\n",
    "import pandas as pd\n",
    "from datetime import datetime\n",
    "\n",
    "import matplotlib.pyplot as plt"
   ]
  },
  {
   "cell_type": "code",
   "execution_count": 2,
   "metadata": {
    "collapsed": false
   },
   "outputs": [],
   "source": [
    "# create Spark Context\n",
    "#sc = SparkContext.getOrCreate()\n",
    "sqlContext = SQLContext(sc)"
   ]
  },
  {
   "cell_type": "markdown",
   "metadata": {},
   "source": [
    "### READ DATA FILES\n",
    "1) read separate CSV files\n",
    "\n",
    "2) merge into one dataframe\n",
    "\n",
    "3) clean dataframe"
   ]
  },
  {
   "cell_type": "code",
   "execution_count": 3,
   "metadata": {
    "collapsed": false
   },
   "outputs": [],
   "source": [
    "# read ad-clicks.csv\n",
    "adclicks_raw = sqlContext.read.load('file:///home/cloudera/flamingo-data/ad-clicks.csv',\n",
    "                           format='com.databricks.spark.csv',\n",
    "                           header='true',\n",
    "                           inferSchema='true')"
   ]
  },
  {
   "cell_type": "code",
   "execution_count": 4,
   "metadata": {
    "collapsed": true
   },
   "outputs": [],
   "source": [
    "# buy-clicks.csv\n",
    "buyclicks_raw = sqlContext.read.load('file:///home/cloudera/flamingo-data/buy-clicks.csv',\n",
    "                                format='com.databricks.spark.csv',\n",
    "                                header='true',\n",
    "                                inferSchema='true')"
   ]
  },
  {
   "cell_type": "code",
   "execution_count": 5,
   "metadata": {
    "collapsed": false
   },
   "outputs": [],
   "source": [
    "# game-clicks.csv\n",
    "gameclicks_raw = sqlContext.read.load('file:///home/cloudera/flamingo-data/game-clicks.csv',\n",
    "                                     format='com.databricks.spark.csv',\n",
    "                                     header='true',\n",
    "                                     inferSchema='true')"
   ]
  },
  {
   "cell_type": "code",
   "execution_count": 6,
   "metadata": {
    "collapsed": true
   },
   "outputs": [],
   "source": [
    "# level-events.csv\n",
    "levelevents_raw = sqlContext.read.load('file:///home/cloudera/flamingo-data/level-events.csv',\n",
    "                                      format='com.databricks.spark.csv',\n",
    "                                      header='true',\n",
    "                                      inferSchema='true')"
   ]
  },
  {
   "cell_type": "code",
   "execution_count": 7,
   "metadata": {
    "collapsed": true
   },
   "outputs": [],
   "source": [
    "# team-assignments.csv\n",
    "teamassignments_raw = sqlContext.read.load('file:///home/cloudera/flamingo-data/team-assignments.csv',\n",
    "                                          format='com.databricks.spark.csv',\n",
    "                                          header='true',\n",
    "                                          inferSchema='true')"
   ]
  },
  {
   "cell_type": "code",
   "execution_count": 8,
   "metadata": {
    "collapsed": true
   },
   "outputs": [],
   "source": [
    "# team.csv\n",
    "team_raw = sqlContext.read.load('file:///home/cloudera/flamingo-data/team.csv',\n",
    "                               format='com.databricks.spark.csv',\n",
    "                               header='true',\n",
    "                               inferSchema='true')"
   ]
  },
  {
   "cell_type": "code",
   "execution_count": 9,
   "metadata": {
    "collapsed": true
   },
   "outputs": [],
   "source": [
    "# user-session.csv\n",
    "usersession_raw = sqlContext.read.load('file:///home/cloudera/flamingo-data/user-session.csv',\n",
    "                                      format='com.databricks.spark.csv',\n",
    "                                      header='true',\n",
    "                                      inferSchema='true')"
   ]
  },
  {
   "cell_type": "code",
   "execution_count": 10,
   "metadata": {
    "collapsed": true
   },
   "outputs": [],
   "source": [
    "# users.csv\n",
    "users_raw = sqlContext.read.load('file:///home/cloudera/flamingo-data/users.csv',\n",
    "                                format='com.databricks.spark.csv',\n",
    "                                header='true',\n",
    "                                inferSchema='true')"
   ]
  },
  {
   "cell_type": "code",
   "execution_count": 11,
   "metadata": {
    "collapsed": false
   },
   "outputs": [
    {
     "name": "stdout",
     "output_type": "stream",
     "text": [
      "Number of rows per file\n",
      "\n",
      "ad-clicks: 16323\n",
      "buy-clicks: 2947\n",
      "game-clicks: 755806\n",
      "level-events: 1254\n",
      "team-assignments: 9826\n",
      "team: 109\n",
      "user-session: 9250\n",
      "users: 2393\n"
     ]
    }
   ],
   "source": [
    "# NUMBER OF ROWS PER FILE\n",
    "print(\"Number of rows per file\\n\")\n",
    "print(\"ad-clicks: {}\".format(adclicks_raw.count()))\n",
    "print(\"buy-clicks: {}\".format(buyclicks_raw.count()))\n",
    "print(\"game-clicks: {}\".format(gameclicks_raw.count()))\n",
    "print(\"level-events: {}\".format(levelevents_raw.count()))\n",
    "print(\"team-assignments: {}\".format(teamassignments_raw.count()))\n",
    "print(\"team: {}\".format(team_raw.count()))\n",
    "print(\"user-session: {}\".format(usersession_raw.count()))\n",
    "print(\"users: {}\".format(users_raw.count()))"
   ]
  },
  {
   "cell_type": "code",
   "execution_count": 12,
   "metadata": {
    "collapsed": false
   },
   "outputs": [
    {
     "name": "stdout",
     "output_type": "stream",
     "text": [
      "root\n",
      " |-- timestamp: timestamp (nullable = true)\n",
      " |-- txId: integer (nullable = true)\n",
      " |-- userSessionId: integer (nullable = true)\n",
      " |-- teamId: integer (nullable = true)\n",
      " |-- userId: integer (nullable = true)\n",
      " |-- adId: integer (nullable = true)\n",
      " |-- adCategory: string (nullable = true)\n",
      "\n"
     ]
    }
   ],
   "source": [
    "adclicks_raw.printSchema()"
   ]
  },
  {
   "cell_type": "code",
   "execution_count": 13,
   "metadata": {
    "collapsed": false
   },
   "outputs": [
    {
     "data": {
      "text/html": [
       "<div>\n",
       "<table border=\"1\" class=\"dataframe\">\n",
       "  <thead>\n",
       "    <tr style=\"text-align: right;\">\n",
       "      <th></th>\n",
       "      <th>0</th>\n",
       "      <th>1</th>\n",
       "      <th>2</th>\n",
       "      <th>3</th>\n",
       "      <th>4</th>\n",
       "    </tr>\n",
       "  </thead>\n",
       "  <tbody>\n",
       "    <tr>\n",
       "      <th>summary</th>\n",
       "      <td>count</td>\n",
       "      <td>mean</td>\n",
       "      <td>stddev</td>\n",
       "      <td>min</td>\n",
       "      <td>max</td>\n",
       "    </tr>\n",
       "    <tr>\n",
       "      <th>txId</th>\n",
       "      <td>16323</td>\n",
       "      <td>24613.82925932733</td>\n",
       "      <td>9513.244787359043</td>\n",
       "      <td>5972</td>\n",
       "      <td>39833</td>\n",
       "    </tr>\n",
       "    <tr>\n",
       "      <th>userSessionId</th>\n",
       "      <td>16323</td>\n",
       "      <td>22090.77344850824</td>\n",
       "      <td>8780.27306545314</td>\n",
       "      <td>5649</td>\n",
       "      <td>39623</td>\n",
       "    </tr>\n",
       "    <tr>\n",
       "      <th>teamId</th>\n",
       "      <td>16323</td>\n",
       "      <td>70.29492127672609</td>\n",
       "      <td>39.63199500554996</td>\n",
       "      <td>2</td>\n",
       "      <td>179</td>\n",
       "    </tr>\n",
       "    <tr>\n",
       "      <th>userId</th>\n",
       "      <td>16323</td>\n",
       "      <td>1187.4641916314404</td>\n",
       "      <td>691.5619445575</td>\n",
       "      <td>1</td>\n",
       "      <td>2387</td>\n",
       "    </tr>\n",
       "    <tr>\n",
       "      <th>adId</th>\n",
       "      <td>16323</td>\n",
       "      <td>14.654046437542119</td>\n",
       "      <td>8.623599159144106</td>\n",
       "      <td>0</td>\n",
       "      <td>29</td>\n",
       "    </tr>\n",
       "  </tbody>\n",
       "</table>\n",
       "</div>"
      ],
      "text/plain": [
       "                   0                   1                  2     3      4\n",
       "summary        count                mean             stddev   min    max\n",
       "txId           16323   24613.82925932733  9513.244787359043  5972  39833\n",
       "userSessionId  16323   22090.77344850824   8780.27306545314  5649  39623\n",
       "teamId         16323   70.29492127672609  39.63199500554996     2    179\n",
       "userId         16323  1187.4641916314404     691.5619445575     1   2387\n",
       "adId           16323  14.654046437542119  8.623599159144106     0     29"
      ]
     },
     "execution_count": 13,
     "metadata": {},
     "output_type": "execute_result"
    }
   ],
   "source": [
    "adclicks_raw.describe().toPandas().transpose()"
   ]
  },
  {
   "cell_type": "code",
   "execution_count": 14,
   "metadata": {
    "collapsed": false
   },
   "outputs": [
    {
     "name": "stdout",
     "output_type": "stream",
     "text": [
      "root\n",
      " |-- timestamp: timestamp (nullable = true)\n",
      " |-- txId: integer (nullable = true)\n",
      " |-- userSessionId: integer (nullable = true)\n",
      " |-- team: integer (nullable = true)\n",
      " |-- userId: integer (nullable = true)\n",
      " |-- buyId: integer (nullable = true)\n",
      " |-- price: double (nullable = true)\n",
      "\n"
     ]
    }
   ],
   "source": [
    "buyclicks_raw.printSchema()"
   ]
  },
  {
   "cell_type": "code",
   "execution_count": 15,
   "metadata": {
    "collapsed": false
   },
   "outputs": [
    {
     "data": {
      "text/html": [
       "<div>\n",
       "<table border=\"1\" class=\"dataframe\">\n",
       "  <thead>\n",
       "    <tr style=\"text-align: right;\">\n",
       "      <th></th>\n",
       "      <th>0</th>\n",
       "      <th>1</th>\n",
       "      <th>2</th>\n",
       "      <th>3</th>\n",
       "      <th>4</th>\n",
       "    </tr>\n",
       "  </thead>\n",
       "  <tbody>\n",
       "    <tr>\n",
       "      <th>summary</th>\n",
       "      <td>count</td>\n",
       "      <td>mean</td>\n",
       "      <td>stddev</td>\n",
       "      <td>min</td>\n",
       "      <td>max</td>\n",
       "    </tr>\n",
       "    <tr>\n",
       "      <th>txId</th>\n",
       "      <td>2947</td>\n",
       "      <td>25443.01085850017</td>\n",
       "      <td>9343.543792592367</td>\n",
       "      <td>6004</td>\n",
       "      <td>39842</td>\n",
       "    </tr>\n",
       "    <tr>\n",
       "      <th>userSessionId</th>\n",
       "      <td>2947</td>\n",
       "      <td>22884.75229046488</td>\n",
       "      <td>8669.35362676463</td>\n",
       "      <td>5652</td>\n",
       "      <td>39275</td>\n",
       "    </tr>\n",
       "    <tr>\n",
       "      <th>team</th>\n",
       "      <td>2947</td>\n",
       "      <td>70.31896844248388</td>\n",
       "      <td>40.27452540199273</td>\n",
       "      <td>2</td>\n",
       "      <td>178</td>\n",
       "    </tr>\n",
       "    <tr>\n",
       "      <th>userId</th>\n",
       "      <td>2947</td>\n",
       "      <td>1187.4591109602986</td>\n",
       "      <td>685.7038088341923</td>\n",
       "      <td>1</td>\n",
       "      <td>2387</td>\n",
       "    </tr>\n",
       "    <tr>\n",
       "      <th>buyId</th>\n",
       "      <td>2947</td>\n",
       "      <td>2.530709195792331</td>\n",
       "      <td>1.7799870722907862</td>\n",
       "      <td>0</td>\n",
       "      <td>5</td>\n",
       "    </tr>\n",
       "    <tr>\n",
       "      <th>price</th>\n",
       "      <td>2947</td>\n",
       "      <td>7.263997285374957</td>\n",
       "      <td>7.076313004712134</td>\n",
       "      <td>1.0</td>\n",
       "      <td>20.0</td>\n",
       "    </tr>\n",
       "  </tbody>\n",
       "</table>\n",
       "</div>"
      ],
      "text/plain": [
       "                   0                   1                   2     3      4\n",
       "summary        count                mean              stddev   min    max\n",
       "txId            2947   25443.01085850017   9343.543792592367  6004  39842\n",
       "userSessionId   2947   22884.75229046488    8669.35362676463  5652  39275\n",
       "team            2947   70.31896844248388   40.27452540199273     2    178\n",
       "userId          2947  1187.4591109602986   685.7038088341923     1   2387\n",
       "buyId           2947   2.530709195792331  1.7799870722907862     0      5\n",
       "price           2947   7.263997285374957   7.076313004712134   1.0   20.0"
      ]
     },
     "execution_count": 15,
     "metadata": {},
     "output_type": "execute_result"
    }
   ],
   "source": [
    "buyclicks_raw.describe().toPandas().transpose()"
   ]
  },
  {
   "cell_type": "code",
   "execution_count": 16,
   "metadata": {
    "collapsed": false
   },
   "outputs": [
    {
     "name": "stdout",
     "output_type": "stream",
     "text": [
      "root\n",
      " |-- timestamp: timestamp (nullable = true)\n",
      " |-- clickId: integer (nullable = true)\n",
      " |-- userId: integer (nullable = true)\n",
      " |-- userSessionId: integer (nullable = true)\n",
      " |-- isHit: integer (nullable = true)\n",
      " |-- teamId: integer (nullable = true)\n",
      " |-- teamLevel: integer (nullable = true)\n",
      "\n"
     ]
    }
   ],
   "source": [
    "gameclicks_raw.printSchema()"
   ]
  },
  {
   "cell_type": "code",
   "execution_count": 17,
   "metadata": {
    "collapsed": false
   },
   "outputs": [
    {
     "data": {
      "text/html": [
       "<div>\n",
       "<table border=\"1\" class=\"dataframe\">\n",
       "  <thead>\n",
       "    <tr style=\"text-align: right;\">\n",
       "      <th></th>\n",
       "      <th>0</th>\n",
       "      <th>1</th>\n",
       "      <th>2</th>\n",
       "      <th>3</th>\n",
       "      <th>4</th>\n",
       "    </tr>\n",
       "  </thead>\n",
       "  <tbody>\n",
       "    <tr>\n",
       "      <th>summary</th>\n",
       "      <td>count</td>\n",
       "      <td>mean</td>\n",
       "      <td>stddev</td>\n",
       "      <td>min</td>\n",
       "      <td>max</td>\n",
       "    </tr>\n",
       "    <tr>\n",
       "      <th>clickId</th>\n",
       "      <td>755806</td>\n",
       "      <td>377902.5</td>\n",
       "      <td>218182.54311509102</td>\n",
       "      <td>0</td>\n",
       "      <td>755805</td>\n",
       "    </tr>\n",
       "    <tr>\n",
       "      <th>userId</th>\n",
       "      <td>755806</td>\n",
       "      <td>1230.0917761965372</td>\n",
       "      <td>689.1974297436151</td>\n",
       "      <td>0</td>\n",
       "      <td>2389</td>\n",
       "    </tr>\n",
       "    <tr>\n",
       "      <th>userSessionId</th>\n",
       "      <td>755806</td>\n",
       "      <td>21444.64732484262</td>\n",
       "      <td>8807.252224659778</td>\n",
       "      <td>5648</td>\n",
       "      <td>39790</td>\n",
       "    </tr>\n",
       "    <tr>\n",
       "      <th>isHit</th>\n",
       "      <td>755806</td>\n",
       "      <td>0.1103232840173272</td>\n",
       "      <td>0.31329249414120713</td>\n",
       "      <td>0</td>\n",
       "      <td>1</td>\n",
       "    </tr>\n",
       "    <tr>\n",
       "      <th>teamId</th>\n",
       "      <td>755806</td>\n",
       "      <td>91.55913289918313</td>\n",
       "      <td>43.862726470866114</td>\n",
       "      <td>2</td>\n",
       "      <td>181</td>\n",
       "    </tr>\n",
       "    <tr>\n",
       "      <th>teamLevel</th>\n",
       "      <td>755806</td>\n",
       "      <td>4.561732772695639</td>\n",
       "      <td>2.0500182843454655</td>\n",
       "      <td>1</td>\n",
       "      <td>8</td>\n",
       "    </tr>\n",
       "  </tbody>\n",
       "</table>\n",
       "</div>"
      ],
      "text/plain": [
       "                    0                   1                    2     3       4\n",
       "summary         count                mean               stddev   min     max\n",
       "clickId        755806            377902.5   218182.54311509102     0  755805\n",
       "userId         755806  1230.0917761965372    689.1974297436151     0    2389\n",
       "userSessionId  755806   21444.64732484262    8807.252224659778  5648   39790\n",
       "isHit          755806  0.1103232840173272  0.31329249414120713     0       1\n",
       "teamId         755806   91.55913289918313   43.862726470866114     2     181\n",
       "teamLevel      755806   4.561732772695639   2.0500182843454655     1       8"
      ]
     },
     "execution_count": 17,
     "metadata": {},
     "output_type": "execute_result"
    }
   ],
   "source": [
    "gameclicks_raw.describe().toPandas().transpose()"
   ]
  },
  {
   "cell_type": "code",
   "execution_count": 18,
   "metadata": {
    "collapsed": false
   },
   "outputs": [
    {
     "name": "stdout",
     "output_type": "stream",
     "text": [
      "root\n",
      " |-- timestamp: timestamp (nullable = true)\n",
      " |-- eventId: integer (nullable = true)\n",
      " |-- teamId: integer (nullable = true)\n",
      " |-- teamLevel: integer (nullable = true)\n",
      " |-- eventType: string (nullable = true)\n",
      "\n"
     ]
    }
   ],
   "source": [
    "levelevents_raw.printSchema()"
   ]
  },
  {
   "cell_type": "code",
   "execution_count": 19,
   "metadata": {
    "collapsed": false
   },
   "outputs": [
    {
     "data": {
      "text/html": [
       "<div>\n",
       "<table border=\"1\" class=\"dataframe\">\n",
       "  <thead>\n",
       "    <tr style=\"text-align: right;\">\n",
       "      <th></th>\n",
       "      <th>0</th>\n",
       "      <th>1</th>\n",
       "      <th>2</th>\n",
       "      <th>3</th>\n",
       "      <th>4</th>\n",
       "    </tr>\n",
       "  </thead>\n",
       "  <tbody>\n",
       "    <tr>\n",
       "      <th>summary</th>\n",
       "      <td>count</td>\n",
       "      <td>mean</td>\n",
       "      <td>stddev</td>\n",
       "      <td>min</td>\n",
       "      <td>max</td>\n",
       "    </tr>\n",
       "    <tr>\n",
       "      <th>eventId</th>\n",
       "      <td>1254</td>\n",
       "      <td>626.5</td>\n",
       "      <td>362.14292758522845</td>\n",
       "      <td>0</td>\n",
       "      <td>1253</td>\n",
       "    </tr>\n",
       "    <tr>\n",
       "      <th>teamId</th>\n",
       "      <td>1254</td>\n",
       "      <td>94.33971291866028</td>\n",
       "      <td>44.37661933285508</td>\n",
       "      <td>2</td>\n",
       "      <td>179</td>\n",
       "    </tr>\n",
       "    <tr>\n",
       "      <th>teamLevel</th>\n",
       "      <td>1254</td>\n",
       "      <td>4.085326953748006</td>\n",
       "      <td>1.9584409193937282</td>\n",
       "      <td>1</td>\n",
       "      <td>8</td>\n",
       "    </tr>\n",
       "  </tbody>\n",
       "</table>\n",
       "</div>"
      ],
      "text/plain": [
       "               0                  1                   2    3     4\n",
       "summary    count               mean              stddev  min   max\n",
       "eventId     1254              626.5  362.14292758522845    0  1253\n",
       "teamId      1254  94.33971291866028   44.37661933285508    2   179\n",
       "teamLevel   1254  4.085326953748006  1.9584409193937282    1     8"
      ]
     },
     "execution_count": 19,
     "metadata": {},
     "output_type": "execute_result"
    }
   ],
   "source": [
    "levelevents_raw.describe().toPandas().transpose()"
   ]
  },
  {
   "cell_type": "code",
   "execution_count": 20,
   "metadata": {
    "collapsed": false
   },
   "outputs": [
    {
     "name": "stdout",
     "output_type": "stream",
     "text": [
      "root\n",
      " |-- timestamp: timestamp (nullable = true)\n",
      " |-- team: integer (nullable = true)\n",
      " |-- userId: integer (nullable = true)\n",
      " |-- assignmentId: integer (nullable = true)\n",
      "\n"
     ]
    }
   ],
   "source": [
    "teamassignments_raw.printSchema()"
   ]
  },
  {
   "cell_type": "code",
   "execution_count": 21,
   "metadata": {
    "collapsed": false
   },
   "outputs": [
    {
     "data": {
      "text/html": [
       "<div>\n",
       "<table border=\"1\" class=\"dataframe\">\n",
       "  <thead>\n",
       "    <tr style=\"text-align: right;\">\n",
       "      <th></th>\n",
       "      <th>0</th>\n",
       "      <th>1</th>\n",
       "      <th>2</th>\n",
       "      <th>3</th>\n",
       "      <th>4</th>\n",
       "    </tr>\n",
       "  </thead>\n",
       "  <tbody>\n",
       "    <tr>\n",
       "      <th>summary</th>\n",
       "      <td>count</td>\n",
       "      <td>mean</td>\n",
       "      <td>stddev</td>\n",
       "      <td>min</td>\n",
       "      <td>max</td>\n",
       "    </tr>\n",
       "    <tr>\n",
       "      <th>team</th>\n",
       "      <td>9826</td>\n",
       "      <td>87.46468552819051</td>\n",
       "      <td>43.42936266588799</td>\n",
       "      <td>2</td>\n",
       "      <td>184</td>\n",
       "    </tr>\n",
       "    <tr>\n",
       "      <th>userId</th>\n",
       "      <td>9826</td>\n",
       "      <td>1209.5669651943822</td>\n",
       "      <td>689.1245775643522</td>\n",
       "      <td>0</td>\n",
       "      <td>2392</td>\n",
       "    </tr>\n",
       "    <tr>\n",
       "      <th>assignmentId</th>\n",
       "      <td>9826</td>\n",
       "      <td>18491.93018522288</td>\n",
       "      <td>9883.61709631016</td>\n",
       "      <td>5000</td>\n",
       "      <td>39860</td>\n",
       "    </tr>\n",
       "  </tbody>\n",
       "</table>\n",
       "</div>"
      ],
      "text/plain": [
       "                  0                   1                  2     3      4\n",
       "summary       count                mean             stddev   min    max\n",
       "team           9826   87.46468552819051  43.42936266588799     2    184\n",
       "userId         9826  1209.5669651943822  689.1245775643522     0   2392\n",
       "assignmentId   9826   18491.93018522288   9883.61709631016  5000  39860"
      ]
     },
     "execution_count": 21,
     "metadata": {},
     "output_type": "execute_result"
    }
   ],
   "source": [
    "teamassignments_raw.describe().toPandas().transpose()"
   ]
  },
  {
   "cell_type": "code",
   "execution_count": 22,
   "metadata": {
    "collapsed": false
   },
   "outputs": [
    {
     "name": "stdout",
     "output_type": "stream",
     "text": [
      "root\n",
      " |-- teamId: integer (nullable = true)\n",
      " |-- name: string (nullable = true)\n",
      " |-- teamCreationTime: timestamp (nullable = true)\n",
      " |-- teamEndTime: timestamp (nullable = true)\n",
      " |-- strength: double (nullable = true)\n",
      " |-- currentLevel: integer (nullable = true)\n",
      "\n"
     ]
    }
   ],
   "source": [
    "team_raw.printSchema()"
   ]
  },
  {
   "cell_type": "code",
   "execution_count": 23,
   "metadata": {
    "collapsed": false
   },
   "outputs": [
    {
     "data": {
      "text/html": [
       "<div>\n",
       "<table border=\"1\" class=\"dataframe\">\n",
       "  <thead>\n",
       "    <tr style=\"text-align: right;\">\n",
       "      <th></th>\n",
       "      <th>0</th>\n",
       "      <th>1</th>\n",
       "      <th>2</th>\n",
       "      <th>3</th>\n",
       "      <th>4</th>\n",
       "    </tr>\n",
       "  </thead>\n",
       "  <tbody>\n",
       "    <tr>\n",
       "      <th>summary</th>\n",
       "      <td>count</td>\n",
       "      <td>mean</td>\n",
       "      <td>stddev</td>\n",
       "      <td>min</td>\n",
       "      <td>max</td>\n",
       "    </tr>\n",
       "    <tr>\n",
       "      <th>teamId</th>\n",
       "      <td>109</td>\n",
       "      <td>56.88990825688074</td>\n",
       "      <td>38.115161620566106</td>\n",
       "      <td>0</td>\n",
       "      <td>171</td>\n",
       "    </tr>\n",
       "    <tr>\n",
       "      <th>strength</th>\n",
       "      <td>109</td>\n",
       "      <td>0.4835207572530579</td>\n",
       "      <td>0.2788252003005053</td>\n",
       "      <td>0.00401521168869</td>\n",
       "      <td>0.994851162257</td>\n",
       "    </tr>\n",
       "    <tr>\n",
       "      <th>currentLevel</th>\n",
       "      <td>109</td>\n",
       "      <td>1.0</td>\n",
       "      <td>0.0</td>\n",
       "      <td>1</td>\n",
       "      <td>1</td>\n",
       "    </tr>\n",
       "  </tbody>\n",
       "</table>\n",
       "</div>"
      ],
      "text/plain": [
       "                  0                   1                   2                 3  \\\n",
       "summary       count                mean              stddev               min   \n",
       "teamId          109   56.88990825688074  38.115161620566106                 0   \n",
       "strength        109  0.4835207572530579  0.2788252003005053  0.00401521168869   \n",
       "currentLevel    109                 1.0                 0.0                 1   \n",
       "\n",
       "                           4  \n",
       "summary                  max  \n",
       "teamId                   171  \n",
       "strength      0.994851162257  \n",
       "currentLevel               1  "
      ]
     },
     "execution_count": 23,
     "metadata": {},
     "output_type": "execute_result"
    }
   ],
   "source": [
    "team_raw.describe().toPandas().transpose()"
   ]
  },
  {
   "cell_type": "code",
   "execution_count": 24,
   "metadata": {
    "collapsed": false
   },
   "outputs": [
    {
     "name": "stdout",
     "output_type": "stream",
     "text": [
      "root\n",
      " |-- timestamp: timestamp (nullable = true)\n",
      " |-- userSessionId: integer (nullable = true)\n",
      " |-- userId: integer (nullable = true)\n",
      " |-- teamId: integer (nullable = true)\n",
      " |-- assignmentId: integer (nullable = true)\n",
      " |-- sessionType: string (nullable = true)\n",
      " |-- teamLevel: integer (nullable = true)\n",
      " |-- platformType: string (nullable = true)\n",
      "\n"
     ]
    }
   ],
   "source": [
    "usersession_raw.printSchema()"
   ]
  },
  {
   "cell_type": "code",
   "execution_count": 25,
   "metadata": {
    "collapsed": false
   },
   "outputs": [
    {
     "data": {
      "text/html": [
       "<div>\n",
       "<table border=\"1\" class=\"dataframe\">\n",
       "  <thead>\n",
       "    <tr style=\"text-align: right;\">\n",
       "      <th></th>\n",
       "      <th>0</th>\n",
       "      <th>1</th>\n",
       "      <th>2</th>\n",
       "      <th>3</th>\n",
       "      <th>4</th>\n",
       "    </tr>\n",
       "  </thead>\n",
       "  <tbody>\n",
       "    <tr>\n",
       "      <th>summary</th>\n",
       "      <td>count</td>\n",
       "      <td>mean</td>\n",
       "      <td>stddev</td>\n",
       "      <td>min</td>\n",
       "      <td>max</td>\n",
       "    </tr>\n",
       "    <tr>\n",
       "      <th>userSessionId</th>\n",
       "      <td>9250</td>\n",
       "      <td>17973.522594594593</td>\n",
       "      <td>7953.932718534248</td>\n",
       "      <td>5648</td>\n",
       "      <td>38722</td>\n",
       "    </tr>\n",
       "    <tr>\n",
       "      <th>userId</th>\n",
       "      <td>9250</td>\n",
       "      <td>1189.6912432432432</td>\n",
       "      <td>691.0445045861406</td>\n",
       "      <td>0</td>\n",
       "      <td>2389</td>\n",
       "    </tr>\n",
       "    <tr>\n",
       "      <th>teamId</th>\n",
       "      <td>9250</td>\n",
       "      <td>72.3907027027027</td>\n",
       "      <td>41.458779047213525</td>\n",
       "      <td>2</td>\n",
       "      <td>179</td>\n",
       "    </tr>\n",
       "    <tr>\n",
       "      <th>assignmentId</th>\n",
       "      <td>9250</td>\n",
       "      <td>10288.336</td>\n",
       "      <td>6960.614801008102</td>\n",
       "      <td>5002</td>\n",
       "      <td>37948</td>\n",
       "    </tr>\n",
       "    <tr>\n",
       "      <th>teamLevel</th>\n",
       "      <td>9250</td>\n",
       "      <td>4.357405405405405</td>\n",
       "      <td>1.9248621663280168</td>\n",
       "      <td>1</td>\n",
       "      <td>8</td>\n",
       "    </tr>\n",
       "  </tbody>\n",
       "</table>\n",
       "</div>"
      ],
      "text/plain": [
       "                   0                   1                   2     3      4\n",
       "summary        count                mean              stddev   min    max\n",
       "userSessionId   9250  17973.522594594593   7953.932718534248  5648  38722\n",
       "userId          9250  1189.6912432432432   691.0445045861406     0   2389\n",
       "teamId          9250    72.3907027027027  41.458779047213525     2    179\n",
       "assignmentId    9250           10288.336   6960.614801008102  5002  37948\n",
       "teamLevel       9250   4.357405405405405  1.9248621663280168     1      8"
      ]
     },
     "execution_count": 25,
     "metadata": {},
     "output_type": "execute_result"
    }
   ],
   "source": [
    "usersession_raw.describe().toPandas().transpose()"
   ]
  },
  {
   "cell_type": "code",
   "execution_count": 26,
   "metadata": {
    "collapsed": false
   },
   "outputs": [
    {
     "name": "stdout",
     "output_type": "stream",
     "text": [
      "root\n",
      " |-- timestamp: timestamp (nullable = true)\n",
      " |-- userId: integer (nullable = true)\n",
      " |-- nick: string (nullable = true)\n",
      " |-- twitter: string (nullable = true)\n",
      " |-- dob: string (nullable = true)\n",
      " |-- country: string (nullable = true)\n",
      "\n"
     ]
    }
   ],
   "source": [
    "users_raw.printSchema()"
   ]
  },
  {
   "cell_type": "code",
   "execution_count": 27,
   "metadata": {
    "collapsed": false
   },
   "outputs": [
    {
     "data": {
      "text/html": [
       "<div>\n",
       "<table border=\"1\" class=\"dataframe\">\n",
       "  <thead>\n",
       "    <tr style=\"text-align: right;\">\n",
       "      <th></th>\n",
       "      <th>0</th>\n",
       "      <th>1</th>\n",
       "      <th>2</th>\n",
       "      <th>3</th>\n",
       "      <th>4</th>\n",
       "    </tr>\n",
       "  </thead>\n",
       "  <tbody>\n",
       "    <tr>\n",
       "      <th>summary</th>\n",
       "      <td>count</td>\n",
       "      <td>mean</td>\n",
       "      <td>stddev</td>\n",
       "      <td>min</td>\n",
       "      <td>max</td>\n",
       "    </tr>\n",
       "    <tr>\n",
       "      <th>userId</th>\n",
       "      <td>2393</td>\n",
       "      <td>1196.0</td>\n",
       "      <td>690.9439195766904</td>\n",
       "      <td>0</td>\n",
       "      <td>2392</td>\n",
       "    </tr>\n",
       "  </tbody>\n",
       "</table>\n",
       "</div>"
      ],
      "text/plain": [
       "             0       1                  2    3     4\n",
       "summary  count    mean             stddev  min   max\n",
       "userId    2393  1196.0  690.9439195766904    0  2392"
      ]
     },
     "execution_count": 27,
     "metadata": {},
     "output_type": "execute_result"
    }
   ],
   "source": [
    "users_raw.describe().toPandas().transpose()"
   ]
  },
  {
   "cell_type": "code",
   "execution_count": null,
   "metadata": {
    "collapsed": true
   },
   "outputs": [],
   "source": []
  },
  {
   "cell_type": "markdown",
   "metadata": {},
   "source": [
    "# USER\n",
    "* COUNTRY - REGION -> pycountry\n",
    "* dob: date-of-birth -> age"
   ]
  },
  {
   "cell_type": "code",
   "execution_count": null,
   "metadata": {
    "collapsed": false
   },
   "outputs": [],
   "source": []
  },
  {
   "cell_type": "code",
   "execution_count": 28,
   "metadata": {
    "collapsed": false
   },
   "outputs": [],
   "source": [
    "# retrieve country codes from user table\n",
    "country_codes = users_raw.select('country').toPandas()[\"country\"]"
   ]
  },
  {
   "cell_type": "code",
   "execution_count": 29,
   "metadata": {
    "collapsed": false
   },
   "outputs": [
    {
     "name": "stdout",
     "output_type": "stream",
     "text": [
      "\"Invalid Country Alpha-2 code: 'UM'\"\n",
      "\"Invalid Country Alpha-2 code: 'AN'\"\n",
      "\"Invalid Country Alpha-2 code: 'AQ'\"\n",
      "\"Invalid Country Alpha-2 code: 'VA'\"\n",
      "\"Invalid Country Alpha-2 code: 'PN'\"\n",
      "\"Invalid Country Alpha-2 code: 'TF'\"\n",
      "\"Invalid Country Alpha-2 code: 'AN'\"\n",
      "\"Invalid Country Alpha-2 code: 'TF'\"\n",
      "\"Invalid Country Alpha-2 code: 'PN'\"\n",
      "\"Invalid Country Alpha-2 code: 'AQ'\"\n",
      "\"Invalid Country Alpha-2 code: 'AQ'\"\n",
      "\"Invalid Country Alpha-2 code: 'UM'\"\n",
      "\"Invalid Country Alpha-2 code: 'VA'\"\n",
      "\"Invalid Country Alpha-2 code: 'AQ'\"\n",
      "\"Invalid Country Alpha-2 code: 'KV'\"\n",
      "\"Invalid Country Alpha-2 code: 'EH'\"\n",
      "\"Invalid Country Alpha-2 code: 'EH'\"\n",
      "\"Invalid Country Alpha-2 code: 'UM'\"\n",
      "\"Invalid Country Alpha-2 code: 'EH'\"\n",
      "\"Invalid Country Alpha-2 code: 'TF'\"\n",
      "\"Invalid Country Alpha-2 code: 'PN'\"\n",
      "\"Invalid Country Alpha-2 code: 'AQ'\"\n",
      "\"Invalid Country Alpha-2 code: 'PN'\"\n",
      "\"Invalid Country Alpha-2 code: 'PN'\"\n",
      "\"Invalid Country Alpha-2 code: 'TF'\"\n",
      "\"Invalid Country Alpha-2 code: 'AQ'\"\n",
      "\"Invalid Country Alpha-2 code: 'PN'\"\n",
      "\"Invalid Country Alpha-2 code: 'AQ'\"\n",
      "\"Invalid Country Alpha-2 code: 'TF'\"\n",
      "\"Invalid Country Alpha-2 code: 'AN'\"\n",
      "\"Invalid Country Alpha-2 code: 'KV'\"\n",
      "\"Invalid Country Alpha-2 code: 'VA'\"\n",
      "\"Invalid Country Alpha-2 code: 'EH'\"\n",
      "\"Invalid Country Alpha-2 code: 'KV'\"\n",
      "\"Invalid Country Alpha-2 code: 'VA'\"\n",
      "\"Invalid Country Alpha-2 code: 'AN'\"\n",
      "\"Invalid Country Alpha-2 code: 'EH'\"\n",
      "\"Invalid Country Alpha-2 code: 'AN'\"\n",
      "\"Invalid Country Alpha-2 code: 'VA'\"\n",
      "\"Invalid Country Alpha-2 code: 'TF'\"\n",
      "\"Invalid Country Alpha-2 code: 'AQ'\"\n",
      "\"Invalid Country Alpha-2 code: 'KV'\"\n",
      "\"Invalid Country Alpha-2 code: 'PN'\"\n",
      "\"Invalid Country Alpha-2 code: 'PN'\"\n",
      "\"Invalid Country Alpha-2 code: 'UM'\"\n",
      "\"Invalid Country Alpha-2 code: 'AQ'\"\n",
      "\"Invalid Country Alpha-2 code: 'UM'\"\n",
      "\"Invalid Country Alpha-2 code: 'VA'\"\n",
      "\"Invalid Country Alpha-2 code: 'EH'\"\n",
      "\"Invalid Country Alpha-2 code: 'VA'\"\n",
      "\"Invalid Country Alpha-2 code: 'AQ'\"\n",
      "\"Invalid Country Alpha-2 code: 'AN'\"\n",
      "\"Invalid Country Alpha-2 code: 'EH'\"\n",
      "\"Invalid Country Alpha-2 code: 'UM'\"\n",
      "\"Invalid Country Alpha-2 code: 'EH'\"\n",
      "\"Invalid Country Alpha-2 code: 'KV'\"\n",
      "\"Invalid Country Alpha-2 code: 'KV'\"\n",
      "\"Invalid Country Alpha-2 code: 'TF'\"\n",
      "\"Invalid Country Alpha-2 code: 'KV'\"\n",
      "\"Invalid Country Alpha-2 code: 'KV'\"\n",
      "\"Invalid Country Alpha-2 code: 'EH'\"\n",
      "\"Invalid Country Alpha-2 code: 'PN'\"\n",
      "\"Invalid Country Alpha-2 code: 'UM'\"\n",
      "\"Invalid Country Alpha-2 code: 'AN'\"\n",
      "\"Invalid Country Alpha-2 code: 'EH'\"\n",
      "\"Invalid Country Alpha-2 code: 'TF'\"\n",
      "\"Invalid Country Alpha-2 code: 'VA'\"\n",
      "\"Invalid Country Alpha-2 code: 'KV'\"\n",
      "\"Invalid Country Alpha-2 code: 'TF'\"\n",
      "\"Invalid Country Alpha-2 code: 'VA'\"\n",
      "\"Invalid Country Alpha-2 code: 'AN'\"\n",
      "\"Invalid Country Alpha-2 code: 'VA'\"\n",
      "\"Invalid Country Alpha-2 code: 'KV'\"\n",
      "\"Invalid Country Alpha-2 code: 'AN'\"\n",
      "\"Invalid Country Alpha-2 code: 'TF'\"\n",
      "\"Invalid Country Alpha-2 code: 'UM'\"\n",
      "\"Invalid Country Alpha-2 code: 'UM'\"\n",
      "\"Invalid Country Alpha-2 code: 'UM'\"\n",
      "\"Invalid Country Alpha-2 code: 'PN'\"\n",
      "\"Invalid Country Alpha-2 code: 'AN'\"\n"
     ]
    }
   ],
   "source": [
    "# convert country to continent codes\n",
    "continent_codes = []\n",
    "for x in country_codes.tolist():\n",
    "    try:\n",
    "        continent_codes.append(pc.country_alpha2_to_continent_code(x))\n",
    "    except Exception as e:\n",
    "        print(e)"
   ]
  },
  {
   "cell_type": "code",
   "execution_count": 30,
   "metadata": {
    "collapsed": false
   },
   "outputs": [],
   "source": [
    "# translate continent code to names\n",
    "continent_codes_names_dict = {\n",
    "    'AF': 'Africa',\n",
    "    'AN': 'Antarctica',\n",
    "    'AS': 'Asia',\n",
    "    'EU': 'Europe',\n",
    "    'NA': 'North America',\n",
    "    'OC': 'Oceania',\n",
    "    'SA': 'South America'\n",
    "}\n",
    "continent_names = [continent_codes_names_dict[x] for x in continent_codes]"
   ]
  },
  {
   "cell_type": "code",
   "execution_count": 31,
   "metadata": {
    "collapsed": false
   },
   "outputs": [
    {
     "name": "stdout",
     "output_type": "stream",
     "text": [
      "2393\n",
      "2313\n",
      "2313\n"
     ]
    }
   ],
   "source": [
    "# assess number of lines \n",
    "# -> 'dropped' values because some unavailable country codes in pycountry\n",
    "print(len(country_codes))\n",
    "print(len(continent_codes))\n",
    "print(len(continent_names))"
   ]
  },
  {
   "cell_type": "code",
   "execution_count": 32,
   "metadata": {
    "collapsed": false
   },
   "outputs": [
    {
     "data": {
      "text/plain": [
       "(2313, 2)"
      ]
     },
     "execution_count": 32,
     "metadata": {},
     "output_type": "execute_result"
    }
   ],
   "source": [
    "# shape into a DataFrame\n",
    "continent_codes_df = pd.DataFrame(continent_names, \n",
    "                                  columns=[\"continentname\"])\n",
    "continent_codes_df[\"count\"] = 1\n",
    "continent_codes_df.shape"
   ]
  },
  {
   "cell_type": "code",
   "execution_count": 33,
   "metadata": {
    "collapsed": false
   },
   "outputs": [
    {
     "data": {
      "text/html": [
       "<div>\n",
       "<table border=\"1\" class=\"dataframe\">\n",
       "  <thead>\n",
       "    <tr style=\"text-align: right;\">\n",
       "      <th></th>\n",
       "      <th>count</th>\n",
       "    </tr>\n",
       "    <tr>\n",
       "      <th>continentname</th>\n",
       "      <th></th>\n",
       "    </tr>\n",
       "  </thead>\n",
       "  <tbody>\n",
       "    <tr>\n",
       "      <th>Africa</th>\n",
       "      <td>555</td>\n",
       "    </tr>\n",
       "    <tr>\n",
       "      <th>Antarctica</th>\n",
       "      <td>20</td>\n",
       "    </tr>\n",
       "    <tr>\n",
       "      <th>Asia</th>\n",
       "      <td>537</td>\n",
       "    </tr>\n",
       "    <tr>\n",
       "      <th>Europe</th>\n",
       "      <td>457</td>\n",
       "    </tr>\n",
       "    <tr>\n",
       "      <th>North America</th>\n",
       "      <td>358</td>\n",
       "    </tr>\n",
       "    <tr>\n",
       "      <th>Oceania</th>\n",
       "      <td>239</td>\n",
       "    </tr>\n",
       "    <tr>\n",
       "      <th>South America</th>\n",
       "      <td>147</td>\n",
       "    </tr>\n",
       "  </tbody>\n",
       "</table>\n",
       "</div>"
      ],
      "text/plain": [
       "               count\n",
       "continentname       \n",
       "Africa           555\n",
       "Antarctica        20\n",
       "Asia             537\n",
       "Europe           457\n",
       "North America    358\n",
       "Oceania          239\n",
       "South America    147"
      ]
     },
     "execution_count": 33,
     "metadata": {},
     "output_type": "execute_result"
    }
   ],
   "source": [
    "# number of users per continent\n",
    "# remark: the underlying data as 9-10 users per country\n",
    "# remark: the data is simulated (cf techincal appendix, github)\n",
    "continent_codes_df.groupby([\"continentname\"]).count()"
   ]
  },
  {
   "cell_type": "markdown",
   "metadata": {},
   "source": [
    "### Age: from date of birth 'dob'"
   ]
  },
  {
   "cell_type": "code",
   "execution_count": 34,
   "metadata": {
    "collapsed": false
   },
   "outputs": [
    {
     "name": "stdout",
     "output_type": "stream",
     "text": [
      "+------+--------------------+----------+\n",
      "|userId|           timestamp|       dob|\n",
      "+------+--------------------+----------+\n",
      "|   442|2012-06-19 14:53:...|1994-07-20|\n",
      "|   949|2012-06-19 19:29:...|1971-04-22|\n",
      "|  1654|2012-06-20 19:34:...|1970-04-19|\n",
      "|  1586|2012-06-21 01:18:...|1965-11-23|\n",
      "|   599|2012-06-21 15:35:...|1994-08-23|\n",
      "+------+--------------------+----------+\n",
      "only showing top 5 rows\n",
      "\n"
     ]
    }
   ],
   "source": [
    "users_raw.select('userId', 'timestamp', 'dob').show(5)"
   ]
  },
  {
   "cell_type": "code",
   "execution_count": 35,
   "metadata": {
    "collapsed": false
   },
   "outputs": [],
   "source": [
    "# users_raw.select('timestamp', to_date('timestamp')).show(5)"
   ]
  },
  {
   "cell_type": "code",
   "execution_count": 36,
   "metadata": {
    "collapsed": false
   },
   "outputs": [],
   "source": [
    "# compute user's age\n",
    "users_age = users_raw.select('userId', round(months_between(users_raw['timestamp'], \n",
    "                                    users_raw['dob'])/12,0).alias(\"age\"))"
   ]
  },
  {
   "cell_type": "code",
   "execution_count": 37,
   "metadata": {
    "collapsed": false
   },
   "outputs": [
    {
     "name": "stdout",
     "output_type": "stream",
     "text": [
      "+------+----+\n",
      "|userId| age|\n",
      "+------+----+\n",
      "|   442|18.0|\n",
      "|   949|41.0|\n",
      "|  1654|42.0|\n",
      "+------+----+\n",
      "only showing top 3 rows\n",
      "\n"
     ]
    }
   ],
   "source": [
    "# check few results:\n",
    "users_age.show(3)"
   ]
  },
  {
   "cell_type": "code",
   "execution_count": 38,
   "metadata": {
    "collapsed": false
   },
   "outputs": [
    {
     "data": {
      "text/html": [
       "<div>\n",
       "<table border=\"1\" class=\"dataframe\">\n",
       "  <thead>\n",
       "    <tr style=\"text-align: right;\">\n",
       "      <th></th>\n",
       "      <th>0</th>\n",
       "      <th>1</th>\n",
       "      <th>2</th>\n",
       "      <th>3</th>\n",
       "      <th>4</th>\n",
       "    </tr>\n",
       "  </thead>\n",
       "  <tbody>\n",
       "    <tr>\n",
       "      <th>summary</th>\n",
       "      <td>count</td>\n",
       "      <td>mean</td>\n",
       "      <td>stddev</td>\n",
       "      <td>min</td>\n",
       "      <td>max</td>\n",
       "    </tr>\n",
       "    <tr>\n",
       "      <th>userId</th>\n",
       "      <td>2393</td>\n",
       "      <td>1196.0</td>\n",
       "      <td>690.9439195766904</td>\n",
       "      <td>0</td>\n",
       "      <td>2392</td>\n",
       "    </tr>\n",
       "    <tr>\n",
       "      <th>age</th>\n",
       "      <td>2393</td>\n",
       "      <td>37.68992895946511</td>\n",
       "      <td>14.12441621737243</td>\n",
       "      <td>14.0</td>\n",
       "      <td>69.0</td>\n",
       "    </tr>\n",
       "  </tbody>\n",
       "</table>\n",
       "</div>"
      ],
      "text/plain": [
       "             0                  1                  2     3     4\n",
       "summary  count               mean             stddev   min   max\n",
       "userId    2393             1196.0  690.9439195766904     0  2392\n",
       "age       2393  37.68992895946511  14.12441621737243  14.0  69.0"
      ]
     },
     "execution_count": 38,
     "metadata": {},
     "output_type": "execute_result"
    }
   ],
   "source": [
    "users_age.describe().toPandas().transpose()"
   ]
  },
  {
   "cell_type": "markdown",
   "metadata": {},
   "source": [
    "# BuyClicks\n",
    "purchase behavior of users\n",
    "* based on buyId, price\n",
    "* amount spent: total, yearly, monthly?\n",
    "* frequency of purchase?\n",
    "* (average price -> already in Classification: Iphone (buy expensive) vs ...)"
   ]
  },
  {
   "cell_type": "code",
   "execution_count": 39,
   "metadata": {
    "collapsed": false
   },
   "outputs": [
    {
     "name": "stdout",
     "output_type": "stream",
     "text": [
      "root\n",
      " |-- timestamp: timestamp (nullable = true)\n",
      " |-- txId: integer (nullable = true)\n",
      " |-- userSessionId: integer (nullable = true)\n",
      " |-- team: integer (nullable = true)\n",
      " |-- userId: integer (nullable = true)\n",
      " |-- buyId: integer (nullable = true)\n",
      " |-- price: double (nullable = true)\n",
      "\n"
     ]
    }
   ],
   "source": [
    "buyclicks_raw.printSchema()"
   ]
  },
  {
   "cell_type": "code",
   "execution_count": 40,
   "metadata": {
    "collapsed": false
   },
   "outputs": [
    {
     "name": "stdout",
     "output_type": "stream",
     "text": [
      "+--------------------+----+-------------+----+------+-----+-----+\n",
      "|           timestamp|txId|userSessionId|team|userId|buyId|price|\n",
      "+--------------------+----+-------------+----+------+-----+-----+\n",
      "|2016-05-26 15:36:...|6004|         5820|   9|  1300|    2|  3.0|\n",
      "|2016-05-26 15:36:...|6005|         5775|  35|   868|    4| 10.0|\n",
      "|2016-05-26 15:36:...|6006|         5679|  97|   819|    5| 20.0|\n",
      "+--------------------+----+-------------+----+------+-----+-----+\n",
      "only showing top 3 rows\n",
      "\n"
     ]
    }
   ],
   "source": [
    "buyclicks_raw.show(3)"
   ]
  },
  {
   "cell_type": "code",
   "execution_count": 41,
   "metadata": {
    "collapsed": false
   },
   "outputs": [
    {
     "data": {
      "text/plain": [
       "2947"
      ]
     },
     "execution_count": 41,
     "metadata": {},
     "output_type": "execute_result"
    }
   ],
   "source": [
    "buyclicks_raw.count()"
   ]
  },
  {
   "cell_type": "code",
   "execution_count": 42,
   "metadata": {
    "collapsed": false
   },
   "outputs": [
    {
     "data": {
      "text/plain": [
       "2947"
      ]
     },
     "execution_count": 42,
     "metadata": {},
     "output_type": "execute_result"
    }
   ],
   "source": [
    "copy_df = buyclicks_raw\n",
    "copy_df_noNa = copy_df.na.drop()\n",
    "copy_df_noNa.count()"
   ]
  },
  {
   "cell_type": "code",
   "execution_count": 43,
   "metadata": {
    "collapsed": false
   },
   "outputs": [],
   "source": [
    "# our dataset covers only the year 2016, and the months of May and June.\n",
    "# -> we can group by months:\n",
    "# group the purchases per Month, per Day, and count #items bought:\n",
    "buyclicks_perDay = buyclicks_raw.select(month(\"timestamp\").alias(\"month\"),\n",
    "                dayofmonth(\"timestamp\").alias(\"day\"), \"userId\", \"buyId\",\n",
    "                     \"price\").groupBy(\"month\", \"day\").count()"
   ]
  },
  {
   "cell_type": "code",
   "execution_count": 44,
   "metadata": {
    "collapsed": false
   },
   "outputs": [
    {
     "name": "stdout",
     "output_type": "stream",
     "text": [
      "+-----+---+-----+\n",
      "|month|day|count|\n",
      "+-----+---+-----+\n",
      "|    5| 26|   22|\n",
      "|    5| 27|   54|\n",
      "|    5| 28|   69|\n",
      "|    5| 29|   66|\n",
      "|    5| 30|   72|\n",
      "|    5| 31|   82|\n",
      "|    6|  1|   97|\n",
      "|    6|  2|   85|\n",
      "|    6|  3|  119|\n",
      "|    6|  4|  135|\n",
      "|    6|  5|  132|\n",
      "|    6|  6|  148|\n",
      "|    6|  7|  134|\n",
      "|    6|  8|  146|\n",
      "|    6|  9|  187|\n",
      "|    6| 10|  166|\n",
      "|    6| 11|  207|\n",
      "|    6| 12|  220|\n",
      "|    6| 13|  199|\n",
      "|    6| 14|  257|\n",
      "|    6| 15|  221|\n",
      "|    6| 16|  129|\n",
      "+-----+---+-----+\n",
      "\n"
     ]
    }
   ],
   "source": [
    "buyclicks_perDay.show(100)  # show all 22 days of data"
   ]
  },
  {
   "cell_type": "code",
   "execution_count": 45,
   "metadata": {
    "collapsed": false
   },
   "outputs": [
    {
     "name": "stdout",
     "output_type": "stream",
     "text": [
      "+------+-----+\n",
      "|userId|count|\n",
      "+------+-----+\n",
      "|  1300|   16|\n",
      "|  1143|   15|\n",
      "|  1027|   15|\n",
      "|  1022|   15|\n",
      "|  2229|   15|\n",
      "|  1697|   14|\n",
      "|   221|   14|\n",
      "|  2248|   14|\n",
      "|  1260|   14|\n",
      "|   355|   13|\n",
      "|   670|   13|\n",
      "|  1162|   13|\n",
      "|    12|   13|\n",
      "|  1892|   13|\n",
      "|   643|   13|\n",
      "+------+-----+\n",
      "only showing top 15 rows\n",
      "\n"
     ]
    }
   ],
   "source": [
    "# NUMBER ITEMS per USER\n",
    "buyclicks_raw.groupBy(\"userId\").count().\\\n",
    "                orderBy(\"count\", ascending=False).show(15)"
   ]
  },
  {
   "cell_type": "code",
   "execution_count": 46,
   "metadata": {
    "collapsed": false
   },
   "outputs": [
    {
     "name": "stdout",
     "output_type": "stream",
     "text": [
      "+------+-------------+-----+\n",
      "|userId|userSessionId|count|\n",
      "+------+-------------+-----+\n",
      "|  2209|        27354|    6|\n",
      "|  1623|        20557|    6|\n",
      "|  1294|        34632|    6|\n",
      "|   243|        20762|    6|\n",
      "|  1997|        26703|    5|\n",
      "+------+-------------+-----+\n",
      "only showing top 5 rows\n",
      "\n"
     ]
    }
   ],
   "source": [
    "# NUMBER OF ITEMS per SESSION per USER\n",
    "buyclicks_raw.groupBy(\"userId\", \"userSessionId\").count().\\\n",
    "                orderBy([\"count\", \"userId\", \"userSessionId\"],\n",
    "                        ascending=False).show(5)"
   ]
  },
  {
   "cell_type": "code",
   "execution_count": 47,
   "metadata": {
    "collapsed": false
   },
   "outputs": [],
   "source": [
    "# sum price, pivoted by prices\n",
    "buyclicks_pivotPrice = buyclicks_raw.groupBy(\"userId\", \n",
    "                                \"buyId\").pivot(\"price\").sum(\"price\")"
   ]
  },
  {
   "cell_type": "code",
   "execution_count": 48,
   "metadata": {
    "collapsed": false
   },
   "outputs": [
    {
     "name": "stdout",
     "output_type": "stream",
     "text": [
      "+------+-----+----+----+----+----+----+-----+\n",
      "|userId|buyId| 1.0| 2.0| 3.0| 5.0|10.0| 20.0|\n",
      "+------+-----+----+----+----+----+----+-----+\n",
      "|     1|    1|null| 4.0|null|null|null| null|\n",
      "|     1|    2|null|null|15.0|null|null| null|\n",
      "|     1|    0| 2.0|null|null|null|null| null|\n",
      "|     8|    5|null|null|null|null|null| 20.0|\n",
      "|     8|    4|null|null|null|null|30.0| null|\n",
      "|     8|    2|null|null| 3.0|null|null| null|\n",
      "|     9|    4|null|null|null|null|40.0| null|\n",
      "|     9|    5|null|null|null|null|null| 40.0|\n",
      "|    10|    1|null| 2.0|null|null|null| null|\n",
      "|    10|    0| 9.0|null|null|null|null| null|\n",
      "|    12|    5|null|null|null|null|null|200.0|\n",
      "|    12|    1|null| 2.0|null|null|null| null|\n",
      "|    12|    2|null|null| 3.0|null|null| null|\n",
      "|    12|    4|null|null|null|null|10.0| null|\n",
      "|    13|    2|null|null|15.0|null|null| null|\n",
      "+------+-----+----+----+----+----+----+-----+\n",
      "only showing top 15 rows\n",
      "\n"
     ]
    }
   ],
   "source": [
    "buyclicks_pivotPrice.orderBy(\"userId\").show(15)"
   ]
  },
  {
   "cell_type": "code",
   "execution_count": 49,
   "metadata": {
    "collapsed": false
   },
   "outputs": [
    {
     "name": "stdout",
     "output_type": "stream",
     "text": [
      "+--------------------+-----+-------------+----+------+-----+-----+\n",
      "|           timestamp| txId|userSessionId|team|userId|buyId|price|\n",
      "+--------------------+-----+-------------+----+------+-----+-----+\n",
      "|2016-05-31 06:06:...|11790|        10041|  99|     1|    2|  3.0|\n",
      "|2016-05-31 06:36:...|11817|        10041|  99|     1|    2|  3.0|\n",
      "|2016-06-01 08:06:...|13447|        12713|  99|     1|    2|  3.0|\n",
      "|2016-06-02 04:36:...|14479|        12713|  99|     1|    0|  1.0|\n",
      "|2016-06-07 05:06:...|22551|        21014|  99|     1|    2|  3.0|\n",
      "|2016-06-09 11:36:...|25852|        21014|  99|     1|    1|  2.0|\n",
      "|2016-06-10 03:36:...|27703|        26938|  99|     1|    2|  3.0|\n",
      "|2016-06-13 05:36:...|32998|        26938|  99|     1|    0|  1.0|\n",
      "|2016-06-14 09:36:...|35904|        34802|  99|     1|    1|  2.0|\n",
      "|2016-06-10 10:06:...|28140|        27918| 124|     8|    5| 20.0|\n",
      "|2016-06-11 14:06:...|29958|        27918| 124|     8|    4| 10.0|\n",
      "|2016-06-12 23:06:...|32573|        27918| 124|     8|    2|  3.0|\n",
      "|2016-06-15 00:36:...|37156|        33190| 124|     8|    4| 10.0|\n",
      "|2016-06-15 17:36:...|38358|        33190| 124|     8|    4| 10.0|\n",
      "|2016-05-29 11:06:...| 9478|         9187|  97|     9|    4| 10.0|\n",
      "+--------------------+-----+-------------+----+------+-----+-----+\n",
      "only showing top 15 rows\n",
      "\n"
     ]
    }
   ],
   "source": [
    "# ORDERED table by USER, SESSION, TIME, ITEM\n",
    "buyclicks_raw.orderBy(\"userId\", \"userSessionId\", \n",
    "                      \"timestamp\", \"buyId\").show(15)"
   ]
  },
  {
   "cell_type": "code",
   "execution_count": 50,
   "metadata": {
    "collapsed": false
   },
   "outputs": [],
   "source": [
    "# TOTAL SPENT BY USER\n",
    "buyclicks_total_by_user = buyclicks_raw.groupBy(\"userId\").agg(_sum(\"price\").alias(\"totalspent\")).orderBy(\"totalspent\",\n",
    "                                    ascending=False)"
   ]
  },
  {
   "cell_type": "code",
   "execution_count": 51,
   "metadata": {
    "collapsed": false
   },
   "outputs": [
    {
     "name": "stdout",
     "output_type": "stream",
     "text": [
      "+------+----------+\n",
      "|userId|totalspent|\n",
      "+------+----------+\n",
      "|  2229|     223.0|\n",
      "|    12|     215.0|\n",
      "|   471|     202.0|\n",
      "|   511|     200.0|\n",
      "|  1027|     189.0|\n",
      "+------+----------+\n",
      "only showing top 5 rows\n",
      "\n"
     ]
    }
   ],
   "source": [
    "buyclicks_total_by_user.show(5)"
   ]
  },
  {
   "cell_type": "code",
   "execution_count": null,
   "metadata": {
    "collapsed": true
   },
   "outputs": [],
   "source": []
  },
  {
   "cell_type": "markdown",
   "metadata": {},
   "source": [
    "## AD CLICKS"
   ]
  },
  {
   "cell_type": "code",
   "execution_count": 52,
   "metadata": {
    "collapsed": false
   },
   "outputs": [
    {
     "data": {
      "text/plain": [
       "16323"
      ]
     },
     "execution_count": 52,
     "metadata": {},
     "output_type": "execute_result"
    }
   ],
   "source": [
    "adclicks_raw.count()"
   ]
  },
  {
   "cell_type": "code",
   "execution_count": 53,
   "metadata": {
    "collapsed": false
   },
   "outputs": [
    {
     "name": "stdout",
     "output_type": "stream",
     "text": [
      "+--------------------+----+-------------+------+------+----+-----------+\n",
      "|           timestamp|txId|userSessionId|teamId|userId|adId| adCategory|\n",
      "+--------------------+----+-------------+------+------+----+-----------+\n",
      "|2016-05-26 15:13:...|5974|         5809|    27|   611|   2|electronics|\n",
      "|2016-05-26 15:17:...|5976|         5705|    18|  1874|  21|     movies|\n",
      "|2016-05-26 15:22:...|5978|         5791|    53|  2139|  25|  computers|\n",
      "+--------------------+----+-------------+------+------+----+-----------+\n",
      "only showing top 3 rows\n",
      "\n"
     ]
    }
   ],
   "source": [
    "adclicks_raw.show(3)"
   ]
  },
  {
   "cell_type": "code",
   "execution_count": 54,
   "metadata": {
    "collapsed": false
   },
   "outputs": [],
   "source": [
    "# NUMBER OF CLICKED AD per USER:\n",
    "adclicks_clicks_by_user = adclicks_raw.groupBy(\"userId\").count().\\\n",
    "                        select(\"userId\",_col(\"count\").alias(\"adClicks\"))"
   ]
  },
  {
   "cell_type": "code",
   "execution_count": 55,
   "metadata": {
    "collapsed": false
   },
   "outputs": [
    {
     "name": "stdout",
     "output_type": "stream",
     "text": [
      "+------+--------+\n",
      "|userId|adClicks|\n",
      "+------+--------+\n",
      "|   231|      19|\n",
      "|  2032|      39|\n",
      "|   233|      37|\n",
      "+------+--------+\n",
      "only showing top 3 rows\n",
      "\n"
     ]
    }
   ],
   "source": [
    "adclicks_clicks_by_user.show(3)"
   ]
  },
  {
   "cell_type": "code",
   "execution_count": 56,
   "metadata": {
    "collapsed": false
   },
   "outputs": [
    {
     "name": "stdout",
     "output_type": "stream",
     "text": [
      "+------+--------+\n",
      "|userId|adClicks|\n",
      "+------+--------+\n",
      "|  2221|      67|\n",
      "|  2306|      61|\n",
      "|  2009|      59|\n",
      "|   807|      58|\n",
      "|   243|      56|\n",
      "+------+--------+\n",
      "only showing top 5 rows\n",
      "\n"
     ]
    }
   ],
   "source": [
    "adclicks_clicks_by_user.orderBy(\"adClicks\", ascending=False).show(5)"
   ]
  },
  {
   "cell_type": "code",
   "execution_count": null,
   "metadata": {
    "collapsed": false
   },
   "outputs": [],
   "source": []
  },
  {
   "cell_type": "code",
   "execution_count": 57,
   "metadata": {
    "collapsed": false
   },
   "outputs": [
    {
     "name": "stdout",
     "output_type": "stream",
     "text": [
      "+-------------+-----+\n",
      "|userSessionId|count|\n",
      "+-------------+-----+\n",
      "|        26952|   17|\n",
      "|        26714|   17|\n",
      "|        28577|   17|\n",
      "|        26396|   17|\n",
      "|        20555|   16|\n",
      "|        26441|   16|\n",
      "|        26409|   16|\n",
      "|        26918|   15|\n",
      "|        26552|   15|\n",
      "|        26890|   15|\n",
      "|        20824|   15|\n",
      "|        20860|   15|\n",
      "|        26681|   15|\n",
      "|        16043|   15|\n",
      "|        26689|   14|\n",
      "+-------------+-----+\n",
      "only showing top 15 rows\n",
      "\n"
     ]
    }
   ],
   "source": [
    "adclicks_raw.groupBy(\"userSessionId\").count().orderBy([\"count\"],\n",
    "                                        ascending=False).show(15)"
   ]
  },
  {
   "cell_type": "code",
   "execution_count": null,
   "metadata": {
    "collapsed": true
   },
   "outputs": [],
   "source": []
  },
  {
   "cell_type": "markdown",
   "metadata": {},
   "source": [
    "# GAME CLICK"
   ]
  },
  {
   "cell_type": "code",
   "execution_count": null,
   "metadata": {
    "collapsed": true
   },
   "outputs": [],
   "source": []
  },
  {
   "cell_type": "code",
   "execution_count": 58,
   "metadata": {
    "collapsed": false,
    "scrolled": true
   },
   "outputs": [
    {
     "data": {
      "text/plain": [
       "755806"
      ]
     },
     "execution_count": 58,
     "metadata": {},
     "output_type": "execute_result"
    }
   ],
   "source": [
    "gameclicks_raw.count()"
   ]
  },
  {
   "cell_type": "code",
   "execution_count": 59,
   "metadata": {
    "collapsed": false
   },
   "outputs": [
    {
     "name": "stdout",
     "output_type": "stream",
     "text": [
      "+--------------------+-------+------+-------------+-----+------+---------+\n",
      "|           timestamp|clickId|userId|userSessionId|isHit|teamId|teamLevel|\n",
      "+--------------------+-------+------+-------------+-----+------+---------+\n",
      "|2016-05-26 15:06:...|    105|  1038|         5916|    0|    25|        1|\n",
      "|2016-05-26 15:07:...|    154|  1099|         5898|    0|    44|        1|\n",
      "|2016-05-26 15:07:...|    229|   899|         5757|    0|    71|        1|\n",
      "+--------------------+-------+------+-------------+-----+------+---------+\n",
      "only showing top 3 rows\n",
      "\n"
     ]
    }
   ],
   "source": [
    "gameclicks_raw.show(3)"
   ]
  },
  {
   "cell_type": "code",
   "execution_count": 60,
   "metadata": {
    "collapsed": false
   },
   "outputs": [],
   "source": [
    "gameclicks_count_by_user = gameclicks_raw.groupBy(\"userId\").count()"
   ]
  },
  {
   "cell_type": "code",
   "execution_count": 61,
   "metadata": {
    "collapsed": false
   },
   "outputs": [],
   "source": [
    "gameclicks_hit_by_user = gameclicks_raw.groupBy(\"userId\").sum(\"isHit\")"
   ]
  },
  {
   "cell_type": "code",
   "execution_count": 62,
   "metadata": {
    "collapsed": false
   },
   "outputs": [
    {
     "data": {
      "text/plain": [
       "pyspark.sql.dataframe.DataFrame"
      ]
     },
     "execution_count": 62,
     "metadata": {},
     "output_type": "execute_result"
    }
   ],
   "source": [
    "type(gameclicks_hit_by_user)"
   ]
  },
  {
   "cell_type": "code",
   "execution_count": 63,
   "metadata": {
    "collapsed": false
   },
   "outputs": [],
   "source": [
    "gameclicks_union = gameclicks_count_by_user.join(gameclicks_hit_by_user, \n",
    "                                        on=[\"userId\"])"
   ]
  },
  {
   "cell_type": "code",
   "execution_count": null,
   "metadata": {
    "collapsed": true
   },
   "outputs": [],
   "source": []
  },
  {
   "cell_type": "code",
   "execution_count": 64,
   "metadata": {
    "collapsed": false
   },
   "outputs": [],
   "source": [
    "gameclicks_hitDetails_per_user = gameclicks_union.withColumn(\"hitRatio\", \n",
    "                round(_col(\"sum(isHit)\") / _col(\"count\"),4))"
   ]
  },
  {
   "cell_type": "code",
   "execution_count": 65,
   "metadata": {
    "collapsed": false
   },
   "outputs": [],
   "source": [
    "gameclicks_hitRatio_per_user = gameclicks_hitDetails_per_user.\\\n",
    "                select(\"userId\", \"hitRatio\")"
   ]
  },
  {
   "cell_type": "code",
   "execution_count": null,
   "metadata": {
    "collapsed": false
   },
   "outputs": [],
   "source": []
  },
  {
   "cell_type": "markdown",
   "metadata": {},
   "source": [
    "## CLEANING DATA\n",
    "* drop na: myDF.na.drop()"
   ]
  },
  {
   "cell_type": "code",
   "execution_count": 66,
   "metadata": {
    "collapsed": false
   },
   "outputs": [
    {
     "name": "stdout",
     "output_type": "stream",
     "text": [
      "root\n",
      " |-- userId: integer (nullable = true)\n",
      " |-- age: double (nullable = true)\n",
      "\n"
     ]
    }
   ],
   "source": [
    "# union the ad-, buy-clicks data and age\n",
    "# 1193 users gameclicked\n",
    "users_age.printSchema()"
   ]
  },
  {
   "cell_type": "code",
   "execution_count": 67,
   "metadata": {
    "collapsed": false
   },
   "outputs": [
    {
     "name": "stdout",
     "output_type": "stream",
     "text": [
      "root\n",
      " |-- userId: integer (nullable = true)\n",
      " |-- totalspent: double (nullable = true)\n",
      "\n"
     ]
    }
   ],
   "source": [
    "buyclicks_total_by_user.printSchema()"
   ]
  },
  {
   "cell_type": "code",
   "execution_count": 68,
   "metadata": {
    "collapsed": false
   },
   "outputs": [
    {
     "name": "stdout",
     "output_type": "stream",
     "text": [
      "root\n",
      " |-- userId: integer (nullable = true)\n",
      " |-- adClicks: long (nullable = false)\n",
      "\n"
     ]
    }
   ],
   "source": [
    "adclicks_clicks_by_user.printSchema()"
   ]
  },
  {
   "cell_type": "code",
   "execution_count": 69,
   "metadata": {
    "collapsed": false
   },
   "outputs": [],
   "source": [
    "adBuyClicks_age_data = users_age.join(buyclicks_total_by_user,\n",
    "                                                on=\"userId\").\\\n",
    "                                        join(adclicks_clicks_by_user,\n",
    "                                            on=\"userId\")"
   ]
  },
  {
   "cell_type": "code",
   "execution_count": 70,
   "metadata": {
    "collapsed": false
   },
   "outputs": [],
   "source": [
    "noUserId_adBuyClicks_age_data= adBuyClicks_age_data.select(\"age\", \"totalspent\", \"adClicks\")"
   ]
  },
  {
   "cell_type": "code",
   "execution_count": 71,
   "metadata": {
    "collapsed": false
   },
   "outputs": [
    {
     "name": "stdout",
     "output_type": "stream",
     "text": [
      "543 rows x 3 columns\n"
     ]
    }
   ],
   "source": [
    "print(\"{} rows x {} columns\".format(noUserId_adBuyClicks_age_data.count(), \n",
    "                                    len(noUserId_adBuyClicks_age_data.columns)))"
   ]
  },
  {
   "cell_type": "code",
   "execution_count": 72,
   "metadata": {
    "collapsed": false
   },
   "outputs": [],
   "source": [
    "clicks_data_clean = noUserId_adBuyClicks_age_data.na.drop()"
   ]
  },
  {
   "cell_type": "code",
   "execution_count": 73,
   "metadata": {
    "collapsed": false
   },
   "outputs": [
    {
     "data": {
      "text/plain": [
       "543"
      ]
     },
     "execution_count": 73,
     "metadata": {},
     "output_type": "execute_result"
    }
   ],
   "source": [
    "clicks_data_clean.count()"
   ]
  },
  {
   "cell_type": "markdown",
   "metadata": {},
   "source": [
    "# FEATURES"
   ]
  },
  {
   "cell_type": "code",
   "execution_count": 74,
   "metadata": {
    "collapsed": true
   },
   "outputs": [],
   "source": [
    "from mpl_toolkits.mplot3d import Axes3D"
   ]
  },
  {
   "cell_type": "code",
   "execution_count": 75,
   "metadata": {
    "collapsed": false
   },
   "outputs": [],
   "source": [
    "myData = clicks_data_clean.toPandas()"
   ]
  },
  {
   "cell_type": "code",
   "execution_count": 76,
   "metadata": {
    "collapsed": false
   },
   "outputs": [],
   "source": [
    "plt.scatter(myData[\"age\"], myData[\"totalspent\"])\n",
    "plt.show()"
   ]
  },
  {
   "cell_type": "code",
   "execution_count": 77,
   "metadata": {
    "collapsed": false
   },
   "outputs": [],
   "source": [
    "plt.scatter(myData[\"age\"], myData[\"adClicks\"])\n",
    "plt.show()"
   ]
  },
  {
   "cell_type": "code",
   "execution_count": 78,
   "metadata": {
    "collapsed": true
   },
   "outputs": [],
   "source": [
    "plt.scatter(myData[\"adClicks\"], myData[\"totalspent\"])\n",
    "plt.show()"
   ]
  },
  {
   "cell_type": "code",
   "execution_count": 79,
   "metadata": {
    "collapsed": false
   },
   "outputs": [],
   "source": [
    "# 3D\n",
    "fig = plt.figure()\n",
    "ax = fig.add_subplot(111, projection='3d')\n",
    "# x-, y-, z-axis\n",
    "ax.scatter(myData[\"age\"],\n",
    "           myData[\"totalspent\"],\n",
    "           myData[\"adClicks\"])\n",
    "# set axis labels\n",
    "ax.set_xlabel('age')\n",
    "ax.set_ylabel('total spent')\n",
    "ax.set_zlabel('ad clicks')\n",
    "\n",
    "plt.show()"
   ]
  },
  {
   "cell_type": "code",
   "execution_count": null,
   "metadata": {
    "collapsed": true
   },
   "outputs": [],
   "source": [
    "\n"
   ]
  },
  {
   "cell_type": "code",
   "execution_count": null,
   "metadata": {
    "collapsed": true
   },
   "outputs": [],
   "source": []
  },
  {
   "cell_type": "code",
   "execution_count": 80,
   "metadata": {
    "collapsed": true
   },
   "outputs": [],
   "source": [
    "# features used\n",
    "featuresUsed = ['age', 'totalspent', 'adClicks']"
   ]
  },
  {
   "cell_type": "code",
   "execution_count": 81,
   "metadata": {
    "collapsed": false
   },
   "outputs": [],
   "source": [
    "# Vector Assembler\n",
    "assembler = VectorAssembler(inputCols=featuresUsed, \n",
    "                            outputCol=\"features_unscaled\")\n"
   ]
  },
  {
   "cell_type": "code",
   "execution_count": 82,
   "metadata": {
    "collapsed": false
   },
   "outputs": [],
   "source": [
    "#transform\n",
    "assembled = assembler.transform(clicks_data_clean)"
   ]
  },
  {
   "cell_type": "code",
   "execution_count": null,
   "metadata": {
    "collapsed": true
   },
   "outputs": [],
   "source": []
  },
  {
   "cell_type": "code",
   "execution_count": 83,
   "metadata": {
    "collapsed": true
   },
   "outputs": [],
   "source": [
    "# Features using StandardScaler\n",
    "scaler = StandardScaler(inputCol=\"features_unscaled\",\n",
    "                       outputCol=\"features\",\n",
    "                       withStd=True,\n",
    "                       withMean=True)"
   ]
  },
  {
   "cell_type": "code",
   "execution_count": 84,
   "metadata": {
    "collapsed": true
   },
   "outputs": [],
   "source": [
    "# fit, transform\n",
    "scalerModel = scaler.fit(assembled)\n",
    "scaledData = scalerModel.transform(assembled)"
   ]
  },
  {
   "cell_type": "code",
   "execution_count": 85,
   "metadata": {
    "collapsed": false
   },
   "outputs": [
    {
     "data": {
      "text/plain": [
       "DataFrame[features: vector]"
      ]
     },
     "execution_count": 85,
     "metadata": {},
     "output_type": "execute_result"
    }
   ],
   "source": [
    "# data persist\n",
    "scaledData = scaledData.select(\"features\")\n",
    "scaledData.persist()"
   ]
  },
  {
   "cell_type": "code",
   "execution_count": null,
   "metadata": {
    "collapsed": true
   },
   "outputs": [],
   "source": []
  },
  {
   "cell_type": "markdown",
   "metadata": {},
   "source": [
    "# CLUSTERING"
   ]
  },
  {
   "cell_type": "code",
   "execution_count": 86,
   "metadata": {
    "collapsed": true
   },
   "outputs": [],
   "source": [
    "#from sklearn.cluster import KMeans as skKMeans\n"
   ]
  },
  {
   "cell_type": "code",
   "execution_count": 87,
   "metadata": {
    "collapsed": false
   },
   "outputs": [],
   "source": [
    "# KMeans clustering: how many clusters?\n"
   ]
  },
  {
   "cell_type": "code",
   "execution_count": 88,
   "metadata": {
    "collapsed": true
   },
   "outputs": [],
   "source": [
    "# generate 2 clusters\n",
    "kmeans = KMeans(k=3, seed=1)"
   ]
  },
  {
   "cell_type": "code",
   "execution_count": 89,
   "metadata": {
    "collapsed": true
   },
   "outputs": [],
   "source": [
    "# fit\n",
    "model = kmeans.fit(scaledData)"
   ]
  },
  {
   "cell_type": "code",
   "execution_count": 90,
   "metadata": {
    "collapsed": true
   },
   "outputs": [],
   "source": [
    "# transform\n",
    "transformed = model.transform(scaledData)"
   ]
  },
  {
   "cell_type": "markdown",
   "metadata": {},
   "source": [
    "### PREPARE DATA: for 3D PLOT"
   ]
  },
  {
   "cell_type": "code",
   "execution_count": 91,
   "metadata": {
    "collapsed": false
   },
   "outputs": [
    {
     "name": "stdout",
     "output_type": "stream",
     "text": [
      "543   2\n"
     ]
    }
   ],
   "source": [
    "print(transformed.count(), \" \", len(transformed.columns))"
   ]
  },
  {
   "cell_type": "code",
   "execution_count": 92,
   "metadata": {
    "collapsed": false
   },
   "outputs": [
    {
     "name": "stdout",
     "output_type": "stream",
     "text": [
      "+--------------------+----------+\n",
      "|            features|prediction|\n",
      "+--------------------+----------+\n",
      "|[-0.6230147439545...|         0|\n",
      "|[-1.2514302349155...|         1|\n",
      "|[1.26223172892838...|         1|\n",
      "|[0.70364018140750...|         2|\n",
      "|[1.33205567236848...|         1|\n",
      "+--------------------+----------+\n",
      "only showing top 5 rows\n",
      "\n"
     ]
    }
   ],
   "source": [
    "transformed.show(5)"
   ]
  },
  {
   "cell_type": "code",
   "execution_count": 93,
   "metadata": {
    "collapsed": false
   },
   "outputs": [
    {
     "data": {
      "text/plain": [
       "(543, 2)"
      ]
     },
     "execution_count": 93,
     "metadata": {},
     "output_type": "execute_result"
    }
   ],
   "source": [
    "dataClusters = transformed.toPandas()\n",
    "dataClusters.shape"
   ]
  },
  {
   "cell_type": "code",
   "execution_count": 94,
   "metadata": {
    "collapsed": false
   },
   "outputs": [
    {
     "data": {
      "text/html": [
       "<div>\n",
       "<table border=\"1\" class=\"dataframe\">\n",
       "  <thead>\n",
       "    <tr style=\"text-align: right;\">\n",
       "      <th></th>\n",
       "      <th>features</th>\n",
       "      <th>prediction</th>\n",
       "    </tr>\n",
       "  </thead>\n",
       "  <tbody>\n",
       "    <tr>\n",
       "      <th>0</th>\n",
       "      <td>[-0.623014743955, 0.57372866686, -0.681757031926]</td>\n",
       "      <td>0</td>\n",
       "    </tr>\n",
       "    <tr>\n",
       "      <th>1</th>\n",
       "      <td>[-1.25143023492, -0.469410302344, 0.63261920928]</td>\n",
       "      <td>1</td>\n",
       "    </tr>\n",
       "    <tr>\n",
       "      <th>2</th>\n",
       "      <td>[1.26223172893, -0.27533793598, 0.50118158516]</td>\n",
       "      <td>1</td>\n",
       "    </tr>\n",
       "    <tr>\n",
       "      <th>3</th>\n",
       "      <td>[0.703640181408, 1.35001813231, 0.304025148979]</td>\n",
       "      <td>2</td>\n",
       "    </tr>\n",
       "    <tr>\n",
       "      <th>4</th>\n",
       "      <td>[1.33205567237, 0.331138208906, 0.764056833401]</td>\n",
       "      <td>1</td>\n",
       "    </tr>\n",
       "  </tbody>\n",
       "</table>\n",
       "</div>"
      ],
      "text/plain": [
       "                                            features  prediction\n",
       "0  [-0.623014743955, 0.57372866686, -0.681757031926]           0\n",
       "1   [-1.25143023492, -0.469410302344, 0.63261920928]           1\n",
       "2     [1.26223172893, -0.27533793598, 0.50118158516]           1\n",
       "3    [0.703640181408, 1.35001813231, 0.304025148979]           2\n",
       "4    [1.33205567237, 0.331138208906, 0.764056833401]           1"
      ]
     },
     "execution_count": 94,
     "metadata": {},
     "output_type": "execute_result"
    }
   ],
   "source": [
    "dataClusters.head(5)"
   ]
  },
  {
   "cell_type": "code",
   "execution_count": 95,
   "metadata": {
    "collapsed": false
   },
   "outputs": [],
   "source": [
    "dataClusters_x = []\n",
    "dataClusters_y = []\n",
    "dataClusters_z = []\n",
    "for point in dataClusters.features:\n",
    "    dataClusters_x.append(point[0])\n",
    "    dataClusters_y.append(point[1])\n",
    "    dataClusters_z.append(point[2])"
   ]
  },
  {
   "cell_type": "code",
   "execution_count": 96,
   "metadata": {
    "collapsed": false
   },
   "outputs": [],
   "source": [
    "reshapedDataClusters = pd.DataFrame(data={'x': dataClusters_x,\n",
    "                                         'y': dataClusters_y,\n",
    "                                         'z': dataClusters_z,\n",
    "                        'prediction': dataClusters.prediction})"
   ]
  },
  {
   "cell_type": "code",
   "execution_count": 97,
   "metadata": {
    "collapsed": false
   },
   "outputs": [],
   "source": [
    "index0 = reshapedDataClusters.prediction==0\n",
    "index1 = reshapedDataClusters.prediction==1\n",
    "index2 = reshapedDataClusters.prediction==2"
   ]
  },
  {
   "cell_type": "code",
   "execution_count": null,
   "metadata": {
    "collapsed": true
   },
   "outputs": [],
   "source": []
  },
  {
   "cell_type": "code",
   "execution_count": 98,
   "metadata": {
    "collapsed": true
   },
   "outputs": [],
   "source": [
    "# CENTER OF CLUSTERS"
   ]
  },
  {
   "cell_type": "code",
   "execution_count": 99,
   "metadata": {
    "collapsed": true
   },
   "outputs": [],
   "source": [
    "# get center\n",
    "centers = model.clusterCenters()"
   ]
  },
  {
   "cell_type": "code",
   "execution_count": 100,
   "metadata": {
    "collapsed": false
   },
   "outputs": [
    {
     "name": "stdout",
     "output_type": "stream",
     "text": [
      "[array([-0.17525485, -0.42214367, -0.92011812]), array([ 0.26174513, -0.21143332,  0.80604385]), array([-0.16496967,  2.02733069,  0.77019059])]\n"
     ]
    }
   ],
   "source": [
    "# print center\n",
    "print(centers)"
   ]
  },
  {
   "cell_type": "code",
   "execution_count": null,
   "metadata": {
    "collapsed": true
   },
   "outputs": [],
   "source": []
  },
  {
   "cell_type": "markdown",
   "metadata": {},
   "source": [
    "# ANALYSIS"
   ]
  },
  {
   "cell_type": "code",
   "execution_count": 101,
   "metadata": {
    "collapsed": true
   },
   "outputs": [],
   "source": [
    "# analyze of clusters:\n",
    "# first center is located at: array([ 0.3270975 ,  0.49940114,  0.82038724])\n",
    "# second center at: array([-0.31410807, -0.47956933, -0.78780869])"
   ]
  },
  {
   "cell_type": "code",
   "execution_count": null,
   "metadata": {
    "collapsed": true
   },
   "outputs": [],
   "source": []
  },
  {
   "cell_type": "code",
   "execution_count": 102,
   "metadata": {
    "collapsed": true
   },
   "outputs": [],
   "source": [
    "figClus = plt.figure()\n",
    "axClus = figClus.add_subplot(111, projection='3d')\n",
    "axClus.scatter(reshapedDataClusters.x[index0],\n",
    "               reshapedDataClusters.y[index0],\n",
    "               reshapedDataClusters.z[index0],\n",
    "              c='blue', label='cluster-1')\n",
    "axClus.scatter(reshapedDataClusters.x[index1],\n",
    "               reshapedDataClusters.y[index1],\n",
    "               reshapedDataClusters.z[index1],\n",
    "              c='orange', label='cluster-2')\n",
    "axClus.scatter(reshapedDataClusters.x[index2],\n",
    "               reshapedDataClusters.y[index2],\n",
    "               reshapedDataClusters.z[index2],\n",
    "              c='red', label='cluster-3')\n",
    "\n",
    "# set labels\n",
    "axClus.set_xlabel('age')\n",
    "axClus.set_ylabel('total spent')\n",
    "axClus.set_zlabel('ad clicks')\n",
    "\n",
    "# clusters' center\n",
    "axClus.scatter(centers[0][0],\n",
    "               centers[0][1],\n",
    "               centers[0][2],\n",
    "              c='yellow', label='centroid-1')\n",
    "axClus.scatter(centers[1][0],\n",
    "               centers[1][1],\n",
    "               centers[1][2],\n",
    "              c='green', label='centroid-2')\n",
    "axClus.scatter(centers[2][0],\n",
    "               centers[2][1],\n",
    "               centers[2][2],\n",
    "              c='black', label='centroid-3')\n",
    "\n",
    "plt.show()"
   ]
  },
  {
   "cell_type": "code",
   "execution_count": null,
   "metadata": {
    "collapsed": false
   },
   "outputs": [],
   "source": []
  },
  {
   "cell_type": "code",
   "execution_count": null,
   "metadata": {
    "collapsed": true
   },
   "outputs": [],
   "source": []
  }
 ],
 "metadata": {
  "kernelspec": {
   "display_name": "Python 3",
   "language": "python",
   "name": "python3"
  },
  "language_info": {
   "codemirror_mode": {
    "name": "ipython",
    "version": 3
   },
   "file_extension": ".py",
   "mimetype": "text/x-python",
   "name": "python",
   "nbconvert_exporter": "python",
   "pygments_lexer": "ipython3",
   "version": "3.5.1"
  }
 },
 "nbformat": 4,
 "nbformat_minor": 0
}
